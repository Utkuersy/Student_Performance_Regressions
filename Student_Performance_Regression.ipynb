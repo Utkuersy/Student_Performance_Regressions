{
 "cells": [
  {
   "cell_type": "markdown",
   "id": "69a91c6e",
   "metadata": {},
   "source": [
    "# Student Performance Analysis using Regression Models"
   ]
  },
  {
   "cell_type": "code",
   "execution_count": null,
   "id": "acef4526",
   "metadata": {},
   "outputs": [],
   "source": [
    "# Install required packages (uncomment if needed)\n",
    "# !pip install numpy pandas scikit-learn matplotlib seaborn\n"
   ]
  },
  {
   "cell_type": "code",
   "execution_count": null,
   "id": "96797b2b",
   "metadata": {},
   "outputs": [],
   "source": [
    "import numpy as np\n",
    "import pandas as pd\n",
    "import matplotlib.pyplot as plt\n",
    "import seaborn as sns\n",
    "from sklearn.model_selection import train_test_split, cross_val_score\n",
    "from sklearn.linear_model import LinearRegression, Ridge, Lasso\n",
    "from sklearn.metrics import mean_squared_error, r2_score\n"
   ]
  },
  {
   "cell_type": "code",
   "execution_count": null,
   "id": "8350389c",
   "metadata": {},
   "outputs": [],
   "source": [
    "df = pd.read_csv(\"StudentsPerformance.csv\")\n",
    "df.head()\n"
   ]
  },
  {
   "cell_type": "code",
   "execution_count": null,
   "id": "56fb7a27",
   "metadata": {},
   "outputs": [],
   "source": [
    "null_counts = df.isnull().sum()\n",
    "print(\"Null element count in each column:\")\n",
    "print(null_counts)\n",
    "\n",
    "total_nulls = df.isnull().sum().sum()\n",
    "print(f\"Total null elements in dataset: {total_nulls}\")\n"
   ]
  },
  {
   "cell_type": "code",
   "execution_count": null,
   "id": "908e93f0",
   "metadata": {},
   "outputs": [],
   "source": [
    "education_order = {\n",
    "    \"some high school\": 0,\n",
    "    \"high school\": 1,\n",
    "    \"some college\": 2,\n",
    "    \"associate's degree\": 3,\n",
    "    \"bachelor's degree\": 4,\n",
    "    \"master's degree\": 5\n",
    "}\n",
    "\n",
    "df[\"parental level of education\"] = df[\"parental level of education\"].map(education_order)\n",
    "df.head()\n"
   ]
  },
  {
   "cell_type": "code",
   "execution_count": null,
   "id": "432e7f15",
   "metadata": {},
   "outputs": [],
   "source": [
    "df_encoded = pd.get_dummies(df, columns=[\"gender\", \"race/ethnicity\", \"lunch\", \"test preparation course\"])\n",
    "df_encoded.head()\n"
   ]
  },
  {
   "cell_type": "code",
   "execution_count": null,
   "id": "b34b5851",
   "metadata": {},
   "outputs": [],
   "source": [
    "X = df_encoded.drop(\"math score\", axis=1)\n",
    "y = df_encoded[\"math score\"]\n"
   ]
  },
  {
   "cell_type": "code",
   "execution_count": null,
   "id": "31f156fb",
   "metadata": {},
   "outputs": [],
   "source": [
    "X_train, X_test, y_train, y_test = train_test_split(X, y, test_size=0.2, random_state=42)\n"
   ]
  },
  {
   "cell_type": "code",
   "execution_count": null,
   "id": "9d375f07",
   "metadata": {},
   "outputs": [],
   "source": [
    "lr_model = LinearRegression()\n",
    "lr_model.fit(X_train, y_train)\n",
    "y_pred = lr_model.predict(X_test)\n",
    "\n",
    "mse = mean_squared_error(y_test, y_pred)\n",
    "r2 = r2_score(y_test, y_pred)\n",
    "\n",
    "print(f\"Linear Regression MSE: {mse:.4f}\")\n",
    "print(f\"Linear Regression R²: {r2:.4f}\")\n"
   ]
  },
  {
   "cell_type": "code",
   "execution_count": null,
   "id": "1b873160",
   "metadata": {},
   "outputs": [],
   "source": [
    "ridge_model = Ridge(alpha=1.0)\n",
    "ridge_model.fit(X_train, y_train)\n",
    "y_pred_ridge = ridge_model.predict(X_test)\n",
    "\n",
    "mse_ridge = mean_squared_error(y_test, y_pred_ridge)\n",
    "r2_ridge = r2_score(y_test, y_pred_ridge)\n",
    "\n",
    "print(f\"Ridge Regression MSE: {mse_ridge:.4f}\")\n",
    "print(f\"Ridge Regression R²: {r2_ridge:.4f}\")\n"
   ]
  },
  {
   "cell_type": "code",
   "execution_count": null,
   "id": "005e6dd4",
   "metadata": {},
   "outputs": [],
   "source": [
    "lasso_model = Lasso(alpha=0.1)\n",
    "lasso_model.fit(X_train, y_train)\n",
    "y_pred_lasso = lasso_model.predict(X_test)\n",
    "\n",
    "mse_lasso = mean_squared_error(y_test, y_pred_lasso)\n",
    "r2_lasso = r2_score(y_test, y_pred_lasso)\n",
    "\n",
    "print(f\"Lasso Regression MSE: {mse_lasso:.4f}\")\n",
    "print(f\"Lasso Regression R²: {r2_lasso:.4f}\")\n"
   ]
  },
  {
   "cell_type": "code",
   "execution_count": null,
   "id": "3f3ac8a2",
   "metadata": {},
   "outputs": [],
   "source": [
    "plt.figure(figsize=(10, 5))\n",
    "plt.scatter(y_test, y_pred, alpha=0.6, label='Linear')\n",
    "plt.scatter(y_test, y_pred_ridge, alpha=0.6, label='Ridge')\n",
    "plt.scatter(y_test, y_pred_lasso, alpha=0.6, label='Lasso')\n",
    "plt.plot([y.min(), y.max()], [y.min(), y.max()], '--k')\n",
    "plt.xlabel(\"Actual Math Score\")\n",
    "plt.ylabel(\"Predicted Math Score\")\n",
    "plt.title(\"Actual vs. Predicted Scores\")\n",
    "plt.legend()\n",
    "plt.grid(True)\n",
    "plt.show()\n"
   ]
  }
 ],
 "metadata": {
  "kernelspec": {
   "display_name": "Python 3 (ipykernel)",
   "language": "python",
   "name": "python3"
  },
  "language_info": {
   "codemirror_mode": {
    "name": "ipython",
    "version": 3
   },
   "file_extension": ".py",
   "mimetype": "text/x-python",
   "name": "python",
   "nbconvert_exporter": "python",
   "pygments_lexer": "ipython3",
   "version": "3.12.7"
  }
 },
 "nbformat": 4,
 "nbformat_minor": 5
}
